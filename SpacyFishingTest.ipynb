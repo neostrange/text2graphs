{
 "cells": [
  {
   "cell_type": "code",
   "execution_count": 1,
   "metadata": {},
   "outputs": [
    {
     "name": "stderr",
     "output_type": "stream",
     "text": [
      "/home/neo/environments/text2graphs/venv/lib/python3.8/site-packages/tqdm/auto.py:22: TqdmWarning: IProgress not found. Please update jupyter and ipywidgets. See https://ipywidgets.readthedocs.io/en/stable/user_install.html\n",
      "  from .autonotebook import tqdm as notebook_tqdm\n",
      "/home/neo/environments/text2graphs/venv/lib/python3.8/site-packages/spacy/util.py:865: UserWarning: [W095] Model 'en_core_web_trf' (3.3.0) was trained with spaCy v3.3 and may not be 100% compatible with the current version (3.4.1). If you see errors or degraded performance, download a newer compatible model or retrain your custom model with the current spaCy version. For more details and available updates, run: python -m spacy validate\n",
      "  warnings.warn(warn_msg)\n",
      "/home/neo/environments/text2graphs/venv/lib/python3.8/site-packages/torch/amp/autocast_mode.py:198: UserWarning: User provided device_type of 'cuda', but CUDA is not available. Disabling\n",
      "  warnings.warn('User provided device_type of \\'cuda\\', but CUDA is not available. Disabling')\n"
     ]
    },
    {
     "name": "stdout",
     "output_type": "stream",
     "text": [
      "('the United States', 'GPE', 'Q30', 'https://www.wikidata.org/wiki/Q30', 0.2375)\n",
      "('the day', 'DATE', 'Q1968642', 'https://www.wikidata.org/wiki/Q1968642', 0.1308)\n",
      "('the day', 'DATE', 'Q1968642', 'https://www.wikidata.org/wiki/Q1968642', 0.1308)\n",
      "('UK', 'GPE', 'Q145', 'https://www.wikidata.org/wiki/Q145', 0.0989)\n",
      "('Japan', 'GPE', 'Q17', 'https://www.wikidata.org/wiki/Q17', 0.3371)\n",
      "('225', 'CARDINAL', 'Q6870009', 'https://www.wikidata.org/wiki/Q6870009', 0.0826)\n",
      "('Yesterday', 'DATE', 'Q202698', 'https://www.wikidata.org/wiki/Q202698', 0.1155)\n",
      "('the European Central Bank', 'ORG', 'Q8901', 'https://www.wikidata.org/wiki/Q8901', 0.3642)\n",
      "('Friday', 'DATE', 'Q673486', 'https://www.wikidata.org/wiki/Q673486', 0.0826)\n",
      "('Fed', 'ORG', 'Q53536', 'https://www.wikidata.org/wiki/Q53536', 0.0861)\n",
      "('Friday', 'DATE', 'Q673486', 'https://www.wikidata.org/wiki/Q673486', 0.0826)\n",
      "('Japan', 'GPE', 'Q17', 'https://www.wikidata.org/wiki/Q17', 0.3371)\n",
      "('The Federal Reserve', 'ORG', 'Q53536', 'https://www.wikidata.org/wiki/Q53536', 0.3672)\n",
      "('this week', 'DATE', 'Q3130024', 'https://www.wikidata.org/wiki/Q3130024', 0.1642)\n",
      "('Friday', 'DATE', 'Q673486', 'https://www.wikidata.org/wiki/Q673486', 0.0826)\n",
      "('Bear Stearns', 'ORG', 'Q813018', 'https://www.wikidata.org/wiki/Q813018', 0.9819)\n",
      "('Washington Mutual', 'ORG', 'Q926203', 'https://www.wikidata.org/wiki/Q926203', 0.9838)\n",
      "('Countrywide Financial', 'ORG', 'Q1137260', 'https://www.wikidata.org/wiki/Q1137260', 0.9812)\n",
      "('U.S.', 'GPE', 'Q30', 'https://www.wikidata.org/wiki/Q30', 0.294)\n",
      "('Countrywide Financial', 'ORG', 'Q1137260', 'https://www.wikidata.org/wiki/Q1137260', 0.9812)\n",
      "('this week', 'DATE', 'Q3130024', 'https://www.wikidata.org/wiki/Q3130024', 0.1642)\n",
      "('American Home Mortgage Investment Corp', 'ORG', 'Q4744012', 'https://www.wikidata.org/wiki/Q4744012', 0.158)\n",
      "('U.S.', 'GPE', 'Q30', 'https://www.wikidata.org/wiki/Q30', 0.294)\n",
      "('the Federal Reserve', 'ORG', 'Q53536', 'https://www.wikidata.org/wiki/Q53536', 0.3855)\n",
      "('17', 'CARDINAL', 'Q40118', 'https://www.wikidata.org/wiki/Q40118', 0.0826)\n",
      "('Jim Cramer', 'PERSON', 'Q6446228', 'https://www.wikidata.org/wiki/Q6446228', 0.9846)\n",
      "('CNBC', 'ORG', 'Q1023912', 'https://www.wikidata.org/wiki/Q1023912', 0.7029)\n",
      "('Mad Money', 'WORK_OF_ART', 'Q6726018', 'https://www.wikidata.org/wiki/Q6726018', 0.9454)\n",
      "('Cramer', 'PERSON', 'Q2616326', 'https://www.wikidata.org/wiki/Q2616326', 0.0887)\n",
      "('CNBC', 'ORG', 'Q1023912', 'https://www.wikidata.org/wiki/Q1023912', 0.7029)\n",
      "('Street Signs', 'WORK_OF_ART', 'Q7622924', 'https://www.wikidata.org/wiki/Q7622924', 0.9162)\n",
      "('Fed', 'ORG', 'Q53536', 'https://www.wikidata.org/wiki/Q53536', 0.0861)\n",
      "('Asian', 'NORP', 'Q2035701', 'https://www.wikidata.org/wiki/Q2035701', 0.2809)\n",
      "('European', 'NORP', 'Q1464982', 'https://www.wikidata.org/wiki/Q1464982', 0.0826)\n",
      "('U.S.', 'GPE', 'Q30', 'https://www.wikidata.org/wiki/Q30', 0.294)\n",
      "('France', 'GPE', 'Q142', 'https://www.wikidata.org/wiki/Q142', 0.3253)\n",
      "('BNP Paribas SA', 'ORG', 'Q499707', 'https://www.wikidata.org/wiki/Q499707', 0.9775)\n"
     ]
    }
   ],
   "source": [
    "from util.EntityFishingLinker import EntityFishing\n",
    "import spacy\n",
    "\n",
    "text_en = \"\"\"Global stock markets fell today, in a mass sell-off stemming from the sub-prime mortgage crisis in the United States. The Dow Jones Industrial Average rebounded late in the day after falling more than 250 points, ending the day down about 31 points. The UK's FTSE-100 index fell 232.90 points to 6038.30, and Japan's Nikkei 225 fell 406.51 points to 16764.09. Central banks across the world are injecting funds into their banking systems to add liquidity, fearing that many financial firms with subprime ties will be insolvent. Yesterday, the U.S. Federal Reserve transferred US$24 billion to temporary reserves, following the European Central Bank, which authorized a record €83.6 billion addition to its banks, its biggest cash infusion ever. On Friday, the Fed entered into a $38 billion repurchase agreement of mortgage-backed securities, easing stockholder worries. Also on Friday, the Bank of Japan injected ¥1 trillion into Japan's financial system. The Federal Reserve met this week, but decided to maintain its target rate of 5.25%, although on Friday the federal funds rate was hovering around 6%, indicating a drop in liquidity. The volatile week began last Friday with Bear Stearns tumbling as a result from its complete loss of two major hedge funds worth more than $1.5 billion. The hedge funds had been dangerously exposed to the massive sub-prime mortgage failure, and the company announced it was unable to return any money to investors. Washington Mutual, and Countrywide Financial, both very large U.S. home loan lenders, saw shares fall. Countrywide Financial made a statement this week, saying they will be forced to retain a greater proportion of mortgage. American Home Mortgage Investment Corp, another large lender, recently filed for bankruptcy. The U.S. housing market has been declining for more than two years after the Federal Reserve raised interest rates 17 times. Now, lenders are in a quagmire from millions of people who are unable to repay loans after taking adjustable rate mortgages, teaser rates, interest-only mortgages, or piggyback rates. Jim Cramer, of CNBC's Mad Money, remarked that as many as seven million people will lose their homes from bad mortgages. Last Friday, Cramer went on a tirade on CNBC's Street Signs, saying that the \"Fed was asleep\" and called for them to lower rates immediately. Asian and European markets have become increasingly entangled in the subprime mortgage crisis in the U.S. Deutsche Bank of Germany lost almost $3.5 billion in share value, forcing the government to organize a bail-out. France's largest bank, BNP Paribas SA, halted withdrawals from three large investment funds which were crippled by sub-prime exposure.\"\"\"\n",
    "\n",
    "nlp_model_en = spacy.load(\"en_core_web_trf\")\n",
    "\n",
    "nlp_model_en.add_pipe(\"entityfishing\", config= {\"api_ef_base\": \"http://localhost:8090/service\", \"extra_info\": True})\n",
    "\n",
    "doc_en = nlp_model_en(text_en)\n",
    "\n",
    "for ent in doc_en.ents:\n",
    "        if ent._.url_wikidata is not None:\n",
    "                print((ent.text, ent.label_, ent._.kb_qid, ent._.url_wikidata, ent._.nerd_score))"
   ]
  },
  {
   "cell_type": "code",
   "execution_count": 2,
   "metadata": {},
   "outputs": [
    {
     "name": "stdout",
     "output_type": "stream",
     "text": [
      "['transformer', 'tagger', 'parser', 'attribute_ruler', 'lemmatizer', 'ner', 'dbpedia_spotlight']\n",
      "('sub-prime mortgage crisis', 'DBPEDIA_ENT', 'http://dbpedia.org/resource/Subprime_mortgage_crisis', '1.0')\n",
      "('United States', 'DBPEDIA_ENT', 'http://dbpedia.org/resource/United_States', '1.0')\n",
      "('Dow Jones Industrial Average', 'DBPEDIA_ENT', 'http://dbpedia.org/resource/Dow_Jones_Industrial_Average', '1.0')\n",
      "('UK', 'DBPEDIA_ENT', 'http://dbpedia.org/resource/United_Kingdom', '0.999906094951609')\n",
      "('Japan', 'DBPEDIA_ENT', 'http://dbpedia.org/resource/Economy_of_Japan', '0.9996366220273559')\n",
      "('Nikkei 225', 'DBPEDIA_ENT', 'http://dbpedia.org/resource/Nikkei_225', '1.0')\n",
      "('liquidity', 'DBPEDIA_ENT', 'http://dbpedia.org/resource/Market_liquidity', '1.0')\n",
      "('subprime', 'DBPEDIA_ENT', 'http://dbpedia.org/resource/Subprime_lending', '0.9999999999652118')\n",
      "('Yesterday', 'DBPEDIA_ENT', 'http://dbpedia.org/resource/Yesterday_(Beatles_song)', '0.9298279089231094')\n",
      "('Federal Reserve', 'DBPEDIA_ENT', 'http://dbpedia.org/resource/Federal_Reserve', '1.0')\n",
      "('European Central Bank', 'DBPEDIA_ENT', 'http://dbpedia.org/resource/European_Central_Bank', '1.0')\n",
      "('repurchase agreement', 'DBPEDIA_ENT', 'http://dbpedia.org/resource/Repurchase_agreement', '1.0')\n",
      "('mortgage-backed securities', 'DBPEDIA_ENT', 'http://dbpedia.org/resource/Mortgage-backed_security', '1.0')\n",
      "('Japan', 'DBPEDIA_ENT', 'http://dbpedia.org/resource/Economy_of_Japan', '0.9996366220273559')\n",
      "('Japan', 'DBPEDIA_ENT', 'http://dbpedia.org/resource/Economy_of_Japan', '0.9996366220273559')\n",
      "('Federal Reserve', 'DBPEDIA_ENT', 'http://dbpedia.org/resource/Federal_Reserve', '1.0')\n",
      "('federal funds rate', 'DBPEDIA_ENT', 'http://dbpedia.org/resource/Federal_funds_rate', '1.0')\n",
      "('liquidity', 'DBPEDIA_ENT', 'http://dbpedia.org/resource/Market_liquidity', '1.0')\n",
      "('Bear Stearns', 'DBPEDIA_ENT', 'http://dbpedia.org/resource/Bear_Stearns', '1.0')\n",
      "('hedge', 'DBPEDIA_ENT', 'http://dbpedia.org/resource/Hedge_fund', '1.0')\n",
      "('hedge', 'DBPEDIA_ENT', 'http://dbpedia.org/resource/Hedge_fund', '1.0')\n",
      "('sub-prime', 'DBPEDIA_ENT', 'http://dbpedia.org/resource/Subprime_lending', '1.0')\n",
      "('mortgage', 'DBPEDIA_ENT', 'http://dbpedia.org/resource/Mortgage_loan', '0.9999999999997726')\n",
      "('Washington Mutual', 'DBPEDIA_ENT', 'http://dbpedia.org/resource/Washington_Mutual', '1.0')\n",
      "('Countrywide Financial', 'DBPEDIA_ENT', 'http://dbpedia.org/resource/Bank_of_America_Home_Loans', '1.0')\n",
      "('Countrywide Financial', 'DBPEDIA_ENT', 'http://dbpedia.org/resource/Bank_of_America_Home_Loans', '1.0')\n",
      "('mortgage', 'DBPEDIA_ENT', 'http://dbpedia.org/resource/Mortgage_loan', '0.9999999999997726')\n",
      "('American Home Mortgage', 'DBPEDIA_ENT', 'http://dbpedia.org/resource/American_Home_Mortgage', '1.0')\n",
      "('Federal Reserve', 'DBPEDIA_ENT', 'http://dbpedia.org/resource/Federal_Reserve', '1.0')\n",
      "('adjustable rate mortgages', 'DBPEDIA_ENT', 'http://dbpedia.org/resource/Adjustable-rate_mortgage', '1.0')\n",
      "('interest-only mortgages', 'DBPEDIA_ENT', 'http://dbpedia.org/resource/Interest-only_loan', '1.0')\n",
      "('Jim Cramer', 'DBPEDIA_ENT', 'http://dbpedia.org/resource/Jim_Cramer', '1.0')\n",
      "('CNBC', 'DBPEDIA_ENT', 'http://dbpedia.org/resource/CNBC', '1.0')\n",
      "('Mad Money', 'DBPEDIA_ENT', 'http://dbpedia.org/resource/Mad_Money', '1.0')\n",
      "('Cramer', 'DBPEDIA_ENT', 'http://dbpedia.org/resource/Jim_Cramer', '1.0')\n",
      "('CNBC', 'DBPEDIA_ENT', 'http://dbpedia.org/resource/CNBC', '1.0')\n",
      "('Street Signs', 'DBPEDIA_ENT', 'http://dbpedia.org/resource/Street_Signs_(TV_program)', '0.801102465896897')\n",
      "('Asian', 'DBPEDIA_ENT', 'http://dbpedia.org/resource/Asia', '0.9999809020282704')\n",
      "('subprime mortgage crisis', 'DBPEDIA_ENT', 'http://dbpedia.org/resource/Subprime_mortgage_crisis', '1.0')\n",
      "('Deutsche Bank', 'DBPEDIA_ENT', 'http://dbpedia.org/resource/Deutsche_Bank', '1.0')\n",
      "('Germany', 'DBPEDIA_ENT', 'http://dbpedia.org/resource/Germany', '0.5938486859910357')\n",
      "('France', 'DBPEDIA_ENT', 'http://dbpedia.org/resource/France', '0.6437438737609359')\n",
      "('BNP Paribas', 'DBPEDIA_ENT', 'http://dbpedia.org/resource/BNP_Paribas', '1.0')\n",
      "('SA', 'DBPEDIA_ENT', 'http://dbpedia.org/resource/Sturmabteilung', '0.9951719652257057')\n",
      "('sub-prime', 'DBPEDIA_ENT', 'http://dbpedia.org/resource/Subprime_lending', '1.0')\n"
     ]
    }
   ],
   "source": [
    "import spacy\n",
    "import spacy_dbpedia_spotlight\n",
    "# this is any existing model\n",
    "nlp = spacy.load('en_core_web_trf')\n",
    "# add the pipeline stage\n",
    "nlp.add_pipe('dbpedia_spotlight', config={'confidence': 0.5})\n",
    "# see the pipeline, the added stage is at the end\n",
    "print(nlp.pipe_names)\n",
    "# ['tok2vec', 'tagger', 'parser', 'ner', 'attribute_ruler', 'lemmatizer', 'dbpedia_spotlight']\n",
    "\n",
    "text = \"\"\"Global stock markets fell today, in a mass sell-off stemming from the sub-prime mortgage crisis in the United States. The Dow Jones Industrial Average rebounded late in the day after falling more than 250 points, ending the day down about 31 points. The UK's FTSE-100 index fell 232.90 points to 6038.30, and Japan's Nikkei 225 fell 406.51 points to 16764.09. Central banks across the world are injecting funds into their banking systems to add liquidity, fearing that many financial firms with subprime ties will be insolvent. Yesterday, the U.S. Federal Reserve transferred US$24 billion to temporary reserves, following the European Central Bank, which authorized a record €83.6 billion addition to its banks, its biggest cash infusion ever. On Friday, the Fed entered into a $38 billion repurchase agreement of mortgage-backed securities, easing stockholder worries. Also on Friday, the Bank of Japan injected ¥1 trillion into Japan's financial system. The Federal Reserve met this week, but decided to maintain its target rate of 5.25%, although on Friday the federal funds rate was hovering around 6%, indicating a drop in liquidity. The volatile week began last Friday with Bear Stearns tumbling as a result from its complete loss of two major hedge funds worth more than $1.5 billion. The hedge funds had been dangerously exposed to the massive sub-prime mortgage failure, and the company announced it was unable to return any money to investors. Washington Mutual, and Countrywide Financial, both very large U.S. home loan lenders, saw shares fall. Countrywide Financial made a statement this week, saying they will be forced to retain a greater proportion of mortgage. American Home Mortgage Investment Corp, another large lender, recently filed for bankruptcy. The U.S. housing market has been declining for more than two years after the Federal Reserve raised interest rates 17 times. Now, lenders are in a quagmire from millions of people who are unable to repay loans after taking adjustable rate mortgages, teaser rates, interest-only mortgages, or piggyback rates. Jim Cramer, of CNBC's Mad Money, remarked that as many as seven million people will lose their homes from bad mortgages. Last Friday, Cramer went on a tirade on CNBC's Street Signs, saying that the \"Fed was asleep\" and called for them to lower rates immediately. Asian and European markets have become increasingly entangled in the subprime mortgage crisis in the U.S. Deutsche Bank of Germany lost almost $3.5 billion in share value, forcing the government to organize a bail-out. France's largest bank, BNP Paribas SA, halted withdrawals from three large investment funds which were crippled by sub-prime exposure.\"\"\"\n",
    "doc = nlp(text)\n",
    "\n",
    "for ent in doc.ents:\n",
    "    print((ent.text, ent.label_, ent.kb_id_, ent._.dbpedia_raw_result['@similarityScore']))\n",
    "\n",
    "#print([(ent.text, ent.kb_id_, ent._.dbpedia_raw_result['@similarityScore']) for ent in doc.ents])"
   ]
  }
 ],
 "metadata": {
  "kernelspec": {
   "display_name": "Python 3.8.10 ('venv': venv)",
   "language": "python",
   "name": "python3"
  },
  "language_info": {
   "codemirror_mode": {
    "name": "ipython",
    "version": 3
   },
   "file_extension": ".py",
   "mimetype": "text/x-python",
   "name": "python",
   "nbconvert_exporter": "python",
   "pygments_lexer": "ipython3",
   "version": "3.8.10"
  },
  "orig_nbformat": 4,
  "vscode": {
   "interpreter": {
    "hash": "6256d0f4a06255e31270570e134280c34365148f596144dcc11c3e5a968e9226"
   }
  }
 },
 "nbformat": 4,
 "nbformat_minor": 2
}
