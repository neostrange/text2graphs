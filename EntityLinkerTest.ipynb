{
 "cells": [
  {
   "cell_type": "code",
   "execution_count": 2,
   "metadata": {},
   "outputs": [
    {
     "name": "stdout",
     "output_type": "stream",
     "text": [
      "('Japan', 'Q17', 'LOC', 'sovereign state in East Asia, situated on an archipelago of five main and over 6,800 smaller islands', 1.2400156769104695)\n",
      "('Syria', 'Q858', 'LOC', 'sovereign state in western Asia', 1.7654654544715438)\n"
     ]
    }
   ],
   "source": [
    "import spacy\n",
    "nlp = spacy.blank(\"en\")\n",
    "nlp.add_pipe('opentapioca')\n",
    "doc = nlp(\"Japan began the defence of their title with a lucky 2-1 win against Syria in a championship match on Friday.\")\n",
    "for span in doc.ents:\n",
    "    print((span.text, span.kb_id_, span.label_, span._.description, span._.score))"
   ]
  },
  {
   "cell_type": "code",
   "execution_count": null,
   "metadata": {},
   "outputs": [],
   "source": []
  }
 ],
 "metadata": {
  "kernelspec": {
   "display_name": "Python 3.8.10 ('venv': venv)",
   "language": "python",
   "name": "python3"
  },
  "language_info": {
   "codemirror_mode": {
    "name": "ipython",
    "version": 3
   },
   "file_extension": ".py",
   "mimetype": "text/x-python",
   "name": "python",
   "nbconvert_exporter": "python",
   "pygments_lexer": "ipython3",
   "version": "3.8.10"
  },
  "orig_nbformat": 4,
  "vscode": {
   "interpreter": {
    "hash": "6256d0f4a06255e31270570e134280c34365148f596144dcc11c3e5a968e9226"
   }
  }
 },
 "nbformat": 4,
 "nbformat_minor": 2
}
